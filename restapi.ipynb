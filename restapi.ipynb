{
 "cells": [
  {
   "cell_type": "markdown",
   "metadata": {},
   "source": [
    "# Developing REST APIs with Amazon API Gateway\n",
    "\n",
    "## Overview and objectives\n",
    "In this project, I will create a REST application programming interface (API) by using Amazon API Gateway.\n",
    "\n",
    "After reading this document, you also should be able to:\n",
    "\n",
    "- Create simple mock endpoints for REST APIs and use them in your website.\n",
    "- Enable Cross-Origin Resource Sharing (CORS)\n",
    "\n",
    "## Scenario\n",
    "In the previous lab, I took on the role of Sofía to build a web application for the café. As part of this process, I created an Amazon DynamoDB table that was named FoodProducts, where I stored information about café menu items.\n",
    "\n",
    "I then loaded data that was formatted in JavaScript Object Notation (JSON) into the database table. The table structure looked similar to the following table (one line item of table data is shown as an example):\n",
    "\n",
    "| product_name | description | price_in_cents |product_id | tags3 | special |\n",
    "|:--------:|:--------:|:--------:|:--------:|:--------:|:--------:|\n",
    "|  apple pie slice   |  A delicious slice of Frank's homemade pie.   |  595   |  a444   |  [ { \"S\" : \"pie slice\" }, { \"S\" : \"on offer\" } ]   |  1   |\n",
    "\n",
    "In the previous lab I also configured code that used the AWS SDK for Python (Boto3) to:\n",
    "\n",
    "- Scan a DynamoDB table to retrieve product details.\n",
    "- Return a single item by product name using get-item as a proof of concept\n",
    "- Create a Global Secondary Index (GSI) called special_GSI that you could use to filter out menu items that are on offer and not out of stock.\n",
    "\n",
    "In this project, I will continue the role of Sofía. I will use Amazon API Gateway to configure mock data endpoints. There are three that I will create:\n",
    "\n",
    "- [GET] /products (which will eventually invoke a DynamoDB table scan)\n",
    "- [GET] /products/on_offer (which will eventually invoke a DynamoDB index scan and filter)\n",
    "- [POST] /create_report (which will eventually trigger a batch process that will send out a report)\n",
    "\n",
    "Then in the [project that follows this one](), I will replace the mock endpoints with real endpoints, so that the web application can connect to the DynamoDB backend.\n",
    "\n",
    "When you start the AWS simulation, the following resources are pre-created in the account.\n",
    "\n",
    "![start-arch](images/start-arch.png)\n",
    "\n",
    "However, by the end of this project, I have created the following architecture:\n",
    "\n",
    "![end-arch](images/end-arch.png)\n",
    "\n"
   ]
  },
  {
   "cell_type": "markdown",
   "metadata": {},
   "source": [
    "# Task 1: Preparing the development environment\n",
    "\n",
    "In this first task, I will configure your AWS Cloud9 environment so that you can create the REST API.\n",
    "\n",
    "From the AWS Management Console, connect to the AWS Cloud9 IDE named Cloud9 Instance.\n",
    " \n",
    "![cloud9-instance](images/cloud9-instance.png)\n",
    "\n",
    "Download and extract the files that you will need for this lab.\n",
    "\n",
    "In the same terminal, run the following command:"
   ]
  },
  {
   "cell_type": "code",
   "execution_count": null,
   "metadata": {
    "vscode": {
     "languageId": "shellscript"
    }
   },
   "outputs": [],
   "source": [
    "wget https://aws-tc-largeobjects.s3.us-west-2.amazonaws.com/CUR-TF-200-ACCDEV-2-91558/04-lab-api/code.zip -P /home/ec2-user/environment"
   ]
  },
  {
   "cell_type": "markdown",
   "metadata": {},
   "source": [
    "Notice that a code.zip file was downloaded to the AWS Cloud9 instance. The file is listed in the Environment window.\n",
    "\n",
    "![restcodezip](images/restcodezip.png)\n",
    "\n",
    "Extract the file:"
   ]
  },
  {
   "cell_type": "code",
   "execution_count": null,
   "metadata": {
    "vscode": {
     "languageId": "shellscript"
    }
   },
   "outputs": [],
   "source": [
    "unzip code.zip"
   ]
  },
  {
   "cell_type": "markdown",
   "metadata": {},
   "source": [
    "![restunzip](images/restunzip.png)\n",
    "\n",
    "Run the script that upgrades the versions of Python and the AWS CLI installed in your IDE environment,  and also creates the cafe website in your AWS account."
   ]
  },
  {
   "cell_type": "code",
   "execution_count": null,
   "metadata": {
    "vscode": {
     "languageId": "shellscript"
    }
   },
   "outputs": [],
   "source": [
    "chmod +x resources/setup.sh && resources/setup.sh"
   ]
  },
  {
   "cell_type": "markdown",
   "metadata": {},
   "source": [
    "The script will prompt you for the IP address by which your computer is known to the internet.\n",
    "\n",
    "![rest-chmod](images/rest-chmod.png)\n",
    "\n",
    "Use www.whatismyip.com to discover this address and then paste the IPv4 address into the command prompt and finish running the script."
   ]
  },
  {
   "cell_type": "markdown",
   "metadata": {},
   "source": [
    "### Verify the version of AWS CLI installed.\n",
    "\n",
    "In the AWS Cloud9 Bash terminal (at the bottom of the IDE), run the following command:"
   ]
  },
  {
   "cell_type": "code",
   "execution_count": null,
   "metadata": {
    "vscode": {
     "languageId": "shellscript"
    }
   },
   "outputs": [],
   "source": [
    "aws --version"
   ]
  },
  {
   "cell_type": "code",
   "execution_count": null,
   "metadata": {
    "vscode": {
     "languageId": "shellscript"
    }
   },
   "outputs": [],
   "source": [
    "aws-cli/2.22.34 Python/3.12.6 Linux/5.10.230.223.885.amzn2.x86_64.exe"
   ]
  },
  {
   "cell_type": "markdown",
   "metadata": {},
   "source": [
    "The output should indicate that version 2 is installed."
   ]
  },
  {
   "cell_type": "markdown",
   "metadata": {},
   "source": [
    "### Verify that the SDK for Python is installed.\n",
    "\n",
    "Run the following command:"
   ]
  },
  {
   "cell_type": "code",
   "execution_count": null,
   "metadata": {
    "vscode": {
     "languageId": "shellscript"
    }
   },
   "outputs": [],
   "source": [
    "pip show boto3"
   ]
  },
  {
   "cell_type": "markdown",
   "metadata": {},
   "source": [
    "![rest-boto](images/rest-boto.png)\n",
    "\n",
    "Note: If you see a message about not using the latest version of pip, ignore the message."
   ]
  },
  {
   "cell_type": "markdown",
   "metadata": {},
   "source": [
    "### Verify that the cafe website can be loaded in a browser tab.\n",
    "\n",
    "Load the website in a browser tab.\n",
    "\n",
    "In a browser tab, open the Amazon S3 console.\n",
    "\n",
    "Choose your bucket name, and then choose Objects.\n",
    "\n",
    "If the files that the script just uploaded do not display, choose the refresh icon to view them.\n",
    "\n",
    "Choose the index.html file.\n",
    "\n",
    "Copy the Object URL. It will be in the following format."
   ]
  },
  {
   "cell_type": "code",
   "execution_count": null,
   "metadata": {
    "vscode": {
     "languageId": "html"
    }
   },
   "outputs": [],
   "source": [
    "https://<bucket-name>.s3.amazon.com/index.html"
   ]
  },
  {
   "cell_type": "markdown",
   "metadata": {},
   "source": [
    "![rest-index](images/rest-index.png)\n",
    "\n",
    "Verify that the website displays by pasting the full URL into your browser.\n",
    "\n",
    "![rest-cafe](images/rest-cafe.png)"
   ]
  },
  {
   "cell_type": "markdown",
   "metadata": {},
   "source": [
    "### Note particular website details.\n",
    "\n",
    "Notice in the Browse Pastries section that there are two buttons.\n",
    "\n",
    "The \"on offer\" view displays by default and it shows six menu items.\n",
    "\n",
    "Select the \"view all\" view. Notice that many more menu items display.\n",
    "\n",
    "![cafe-onoffer-viewall](images/cafe-onoffer-viewall.png)\n",
    "\n",
    "Optionally, expose the developer console view in your browser.\n",
    "\n",
    "For example, if you are using Chrome, choose View > Developer > View JavaScript Console\n",
    "If you are using Firefox, choose Tools > Web Developer > Web Console.\n",
    "Analysis: These menu details that display on the website are currently being read out of the all_products_on_offer.json and all_products.json files that are hosted in your S3 bucket. You also have a copy of these same files in your Cloud9 IDE, in the resources/website directory.\n",
    "\n",
    "If you are looking at the browser developer console view details, you will also see a log entry written by the main.js file, indicating that hardcoded data is being used.  Later in the lab, you will see that the number of menu items that display changes and that the messages in the console change as well.\n",
    "\n",
    "Leave the website open in this browser tab, you will return to it towards the end of the lab."
   ]
  }
 ],
 "metadata": {
  "language_info": {
   "name": "python"
  }
 },
 "nbformat": 4,
 "nbformat_minor": 2
}
