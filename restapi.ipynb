{
 "cells": [
  {
   "cell_type": "markdown",
   "metadata": {},
   "source": [
    "# Developing REST APIs with Amazon API Gateway\n",
    "\n",
    "## Overview and objectives\n",
    "In this project, I will create a REST application programming interface (API) by using Amazon API Gateway.\n",
    "\n",
    "After reading this document, you also should be able to:\n",
    "\n",
    "- Create simple mock endpoints for REST APIs and use them in your website.\n",
    "- Enable Cross-Origin Resource Sharing (CORS)\n",
    "\n",
    "## Scenario\n",
    "In the previous lab, I took on the role of Sofía to build a web application for the café. As part of this process, I created an Amazon DynamoDB table that was named FoodProducts, where I stored information about café menu items.\n",
    "\n",
    "I then loaded data that was formatted in JavaScript Object Notation (JSON) into the database table. The table structure looked similar to the following table (one line item of table data is shown as an example):\n",
    "\n",
    "| product_name | description | price_in_cents |product_id | tags3 | special |\n",
    "|:--------:|:--------:|:--------:|:--------:|:--------:|:--------:|\n",
    "|  apple pie slice   |  A delicious slice of Frank's homemade pie.   |  595   |  a444   |  [ { \"S\" : \"pie slice\" }, { \"S\" : \"on offer\" } ]   |  1   |\n",
    "\n",
    "In the previous lab I also configured code that used the AWS SDK for Python (Boto3) to:\n",
    "\n",
    "- Scan a DynamoDB table to retrieve product details.\n",
    "- Return a single item by product name using get-item as a proof of concept\n",
    "- Create a Global Secondary Index (GSI) called special_GSI that you could use to filter out menu items that are on offer and not out of stock.\n",
    "\n",
    "In this project, I will continue the role of Sofía. I will use Amazon API Gateway to configure mock data endpoints. There are three that I will create:\n",
    "\n",
    "- [GET] /products (which will eventually invoke a DynamoDB table scan)\n",
    "- [GET] /products/on_offer (which will eventually invoke a DynamoDB index scan and filter)\n",
    "- [POST] /create_report (which will eventually trigger a batch process that will send out a report)\n",
    "\n",
    "Then in the [project that follows this one](), I will replace the mock endpoints with real endpoints, so that the web application can connect to the DynamoDB backend.\n",
    "\n",
    "When you start the AWS simulation, the following resources are pre-created in the account.\n",
    "\n",
    "![start-arch](images/start-arch.png)\n",
    "\n",
    "However, by the end of this project, I have created the following architecture:\n",
    "\n",
    "![end-arch](images/end-arch.png)\n",
    "\n"
   ]
  },
  {
   "cell_type": "markdown",
   "metadata": {},
   "source": [
    "# Task 1: Preparing the development environment\n",
    "\n",
    "In this first task, I will configure your AWS Cloud9 environment so that you can create the REST API.\n",
    "\n",
    "From the AWS Management Console, connect to the AWS Cloud9 IDE named Cloud9 Instance.\n",
    " \n",
    "![cloud9-instance](images/cloud9-instance.png)\n",
    "\n",
    "Download and extract the files that you will need for this lab.\n",
    "\n",
    "In the same terminal, run the following command:"
   ]
  },
  {
   "cell_type": "code",
   "execution_count": null,
   "metadata": {
    "vscode": {
     "languageId": "shellscript"
    }
   },
   "outputs": [],
   "source": [
    "wget https://aws-tc-largeobjects.s3.us-west-2.amazonaws.com/CUR-TF-200-ACCDEV-2-91558/04-lab-api/code.zip -P /home/ec2-user/environment"
   ]
  },
  {
   "cell_type": "markdown",
   "metadata": {},
   "source": [
    "Notice that a code.zip file was downloaded to the AWS Cloud9 instance. The file is listed in the Environment window.\n",
    "\n",
    "![restcodezip](images/restcodezip.png)\n",
    "\n",
    "Extract the file:"
   ]
  },
  {
   "cell_type": "code",
   "execution_count": null,
   "metadata": {
    "vscode": {
     "languageId": "shellscript"
    }
   },
   "outputs": [],
   "source": [
    "unzip code.zip"
   ]
  },
  {
   "cell_type": "markdown",
   "metadata": {},
   "source": [
    "![restunzip](images/restunzip.png)\n",
    "\n",
    "Run the script that upgrades the versions of Python and the AWS CLI installed in your IDE environment,  and also creates the cafe website in your AWS account."
   ]
  },
  {
   "cell_type": "code",
   "execution_count": null,
   "metadata": {
    "vscode": {
     "languageId": "shellscript"
    }
   },
   "outputs": [],
   "source": [
    "chmod +x resources/setup.sh && resources/setup.sh"
   ]
  },
  {
   "cell_type": "markdown",
   "metadata": {},
   "source": [
    "The script will prompt you for the IP address by which your computer is known to the internet.\n",
    "\n",
    "![rest-chmod](images/rest-chmod.png)\n",
    "\n",
    "Use www.whatismyip.com to discover this address and then paste the IPv4 address into the command prompt and finish running the script."
   ]
  },
  {
   "cell_type": "markdown",
   "metadata": {},
   "source": [
    "### Verify the version of AWS CLI installed.\n",
    "\n",
    "In the AWS Cloud9 Bash terminal (at the bottom of the IDE), run the following command:"
   ]
  },
  {
   "cell_type": "code",
   "execution_count": null,
   "metadata": {
    "vscode": {
     "languageId": "shellscript"
    }
   },
   "outputs": [],
   "source": [
    "aws --version"
   ]
  },
  {
   "cell_type": "code",
   "execution_count": null,
   "metadata": {
    "vscode": {
     "languageId": "shellscript"
    }
   },
   "outputs": [],
   "source": [
    "aws-cli/2.22.34 Python/3.12.6 Linux/5.10.230.223.885.amzn2.x86_64.exe"
   ]
  },
  {
   "cell_type": "markdown",
   "metadata": {},
   "source": [
    "The output should indicate that version 2 is installed."
   ]
  },
  {
   "cell_type": "markdown",
   "metadata": {},
   "source": [
    "### Verify that the SDK for Python is installed.\n",
    "\n",
    "Run the following command:"
   ]
  },
  {
   "cell_type": "code",
   "execution_count": null,
   "metadata": {
    "vscode": {
     "languageId": "shellscript"
    }
   },
   "outputs": [],
   "source": [
    "pip show boto3"
   ]
  },
  {
   "cell_type": "markdown",
   "metadata": {},
   "source": [
    "![rest-boto](images/rest-boto.png)\n",
    "\n",
    "Note: If you see a message about not using the latest version of pip, ignore the message."
   ]
  },
  {
   "cell_type": "markdown",
   "metadata": {},
   "source": [
    "### Verify that the cafe website can be loaded in a browser tab.\n",
    "\n",
    "Load the website in a browser tab.\n",
    "\n",
    "In a browser tab, open the Amazon S3 console.\n",
    "\n",
    "Choose your bucket name, and then choose Objects.\n",
    "\n",
    "If the files that the script just uploaded do not display, choose the refresh icon to view them.\n",
    "\n",
    "Choose the index.html file.\n",
    "\n",
    "Copy the Object URL. It will be in the following format."
   ]
  },
  {
   "cell_type": "code",
   "execution_count": null,
   "metadata": {
    "vscode": {
     "languageId": "html"
    }
   },
   "outputs": [],
   "source": [
    "https://<bucket-name>.s3.amazon.com/index.html"
   ]
  },
  {
   "cell_type": "markdown",
   "metadata": {},
   "source": [
    "![rest-index](images/rest-index.png)\n",
    "\n",
    "Verify that the website displays by pasting the full URL into your browser.\n",
    "\n",
    "![rest-cafe](images/rest-cafe.png)"
   ]
  },
  {
   "cell_type": "markdown",
   "metadata": {},
   "source": [
    "### Note particular website details.\n",
    "\n",
    "Notice in the Browse Pastries section that there are two buttons.\n",
    "\n",
    "The \"on offer\" view displays by default and it shows six menu items.\n",
    "\n",
    "Select the \"view all\" view. Notice that many more menu items display.\n",
    "\n",
    "![cafe-onoffer-viewall](images/cafe-onoffer-viewall.png)\n",
    "\n",
    "Optionally, expose the developer console view in your browser.\n",
    "\n",
    "For example, if you are using Chrome, choose View > Developer > View JavaScript Console\n",
    "If you are using Firefox, choose Tools > Web Developer > Web Console.\n",
    "Analysis: These menu details that display on the website are currently being read out of the all_products_on_offer.json and all_products.json files that are hosted in your S3 bucket. You also have a copy of these same files in your Cloud9 IDE, in the resources/website directory.\n",
    "\n",
    "If you are looking at the browser developer console view details, you will also see a log entry written by the main.js file, indicating that hardcoded data is being used.  Later in the lab, you will see that the number of menu items that display changes and that the messages in the console change as well.\n",
    "\n",
    "Leave the website open in this browser tab, you will return to it towards the end of the lab."
   ]
  },
  {
   "cell_type": "markdown",
   "metadata": {},
   "source": [
    "## Task 2: Creating the first API endpoint (GET)\n",
    "\n",
    "In this task, I will create a REST API called ProductsApi. I will also create the first of three resources for the API.\n",
    "\n",
    "The first API resource will be called products. It will make a GET request so that the website can retrieve all rows from the FoodProducts DynamoDB database table. You will then deploy it in an API Gateway stage that's named prod. When a user visits the website, it will make an AJAX request and return a list of café menu items from API gateway (it will return mock data for now).\n",
    "\n",
    "To complete all these tasks, I will use the SDK for Python."
   ]
  },
  {
   "cell_type": "markdown",
   "metadata": {},
   "source": [
    "In the AWS Cloud9 navigation pane, expand the python_3 directory and open the file named create_products_api.py.\n",
    " \n",
    "\n",
    "On line 3, replace the  (fill me in) with the correct value that will create an API Gateway client.\n",
    "\n",
    " Tip: Consult the [SDK for Python documentation](https://boto3.amazonaws.com/v1/documentation/api/latest/reference/services/apigateway.html) as needed.\n",
    "\n",
    "![create-products-fmi](images/create-products-fmi.png)"
   ]
  },
  {
   "cell_type": "markdown",
   "metadata": {},
   "source": [
    "### Take a moment to analyze the first part of what this code will do when you run it:\n",
    "\n",
    "Lines 5-24 create a REST API that's named ProductsApi, and a resource that's named products."
   ]
  },
  {
   "cell_type": "code",
   "execution_count": null,
   "metadata": {},
   "outputs": [],
   "source": [
    "response = client.create_rest_api(\n",
    "    name='ProductsApi',\n",
    "    description='API to get all the food products.',\n",
    "    minimumCompressionSize=123,\n",
    "    endpointConfiguration={\n",
    "        'types': [\n",
    "            'REGIONAL',\n",
    "        ]\n",
    "    }\n",
    ")\n",
    "api_id = response[\"id\"]\n",
    "\n",
    "resources = client.get_resources(restApiId=api_id)\n",
    "root_id = [resource for resource in resources[\"items\"] if resource[\"path\"] == \"/\"][0][\"id\"]\n",
    "\n",
    "products = client.create_resource(\n",
    "    restApiId=api_id,\n",
    "    parentId=root_id,\n",
    "    pathPart='products'\n",
    ")"
   ]
  },
  {
   "cell_type": "markdown",
   "metadata": {},
   "source": [
    "Lines 28-33 create a method request of type GET in the products resource.\n"
   ]
  },
  {
   "cell_type": "code",
   "execution_count": null,
   "metadata": {},
   "outputs": [],
   "source": [
    "product_method = client.put_method(\n",
    "    restApiId=api_id,\n",
    "    resourceId=products_resource_id,\n",
    "    httpMethod='GET',\n",
    "    authorizationType='NONE'\n",
    ")"
   ]
  },
  {
   "cell_type": "markdown",
   "metadata": {},
   "source": [
    "You will analyze what the additional lines of code accomplish later in this task."
   ]
  },
  {
   "cell_type": "markdown",
   "metadata": {},
   "source": [
    "Run the code.\n",
    "\n",
    "Save the change to the file.\n",
    "\n",
    "Then, in the Bash terminal, go to the directory that contains the Python code file, and run the code."
   ]
  },
  {
   "cell_type": "code",
   "execution_count": null,
   "metadata": {
    "vscode": {
     "languageId": "shellscript"
    }
   },
   "outputs": [],
   "source": [
    "cd python_3\n",
    "python create_products_api.py"
   ]
  },
  {
   "cell_type": "markdown",
   "metadata": {},
   "source": [
    "![create-products-apipy](images/create-products-apipy.png)\n",
    "\n",
    "Return to the AWS Management Console browser tab, and open the API Gateway console.\n",
    " \n",
    "\n",
    "Open the ProductsApi that you just created by choosing the link.\n",
    " \n",
    "\n",
    "Choose the GET method that you defined.\n",
    "\n",
    "You should see the details of the GET method execution in a graphical format.\n",
    "\n",
    "![endpoint1](images/endpoint1.png)"
   ]
  },
  {
   "cell_type": "markdown",
   "metadata": {},
   "source": [
    "Take a moment to study the data flow in the GET method that you defined.  \n",
    "\n",
    "Tip: If you have a screen that is large enough, arrange the browser tabs so that you have the AWS Cloud9 IDE open next to this browser tab. This way, you can see the code and what it produced side-by-side.\n",
    "\n",
    "On the left is the Client.\n",
    "- Lines 28-33 - When you run the Test, the Method Request is sent to the URL in the Amazon Resource Name (ARN) detail. The request doesn't require any authorization to invoke it.\n",
    "- Lines 50-58 - The Integration Request of type MOCK is invoked, and the mock endpoint receives the data.\n",
    "- Lines 35-48 - The mock endpoint invokes the Integration Response, which invokes the Method Response.\n",
    "- Lines 61-92 - The Method Response returns the REST API response back to the Client that the request originated from.\n",
    "\n",
    "#### Analysis: To make it easier during this initial API development phase, you will use mock data. When you test the API call, it will not actually connect to the database. Instead, it will return the data that's hardcoded in the responseTemplate part of the code (lines 67-91).  \n",
    "\n",
    "This approach reduces the scope of potential errors during testing. You can stay focused in this lab on ensuring that the REST API logic is well defined.    \t\n",
    "\n",
    "However, the structure of this mock data intentionally matches the data structure that will appear in the next lab when Lambda will be interacting with the database table.\n",
    "\n",
    "The key values will be mapped to the attributes that are defined in the DynamoDB table (which you created in the previous lab).\n",
    "\n",
    "Note: attributes in DynamoDB are not primatives. Instead, they are wrapper objects (as shown in the example code below). This is why there is a slight difference between the key names in the JSON and the attribute names in DynamoDB.\n",
    "\n"
   ]
  },
  {
   "cell_type": "code",
   "execution_count": null,
   "metadata": {
    "vscode": {
     "languageId": "shellscript"
    }
   },
   "outputs": [],
   "source": [
    "product_name: {\n",
    " \"S\": \"vanilla cupcake\"\n",
    "}"
   ]
  },
  {
   "cell_type": "markdown",
   "metadata": {},
   "source": [
    "In the API Gateway console, choose the  TEST link, then scroll to the bottom and choose the Test button.\n",
    "\n",
    "In the panel on the right, you should see the following response body, response headers, and log information."
   ]
  },
  {
   "cell_type": "code",
   "execution_count": null,
   "metadata": {
    "vscode": {
     "languageId": "shellscript"
    }
   },
   "outputs": [],
   "source": [
    "[\n",
    "  {\n",
    "    \"product_name_str\": \"apple pie slice\",\n",
    "    \"product_id_str\": \"a444\",\n",
    "    \"price_in_cents_int\": 595,\n",
    "    \"description_str\": \"amazing taste\",\n",
    "    \"tag_str_arr\": [\n",
    "      \"pie slice\",\n",
    "      \"on offer\"\n",
    "    ],\n",
    "    \"special_int\": 1\n",
    "  },\n",
    "  {\n",
    "    \"product_name_str\": \"chocolate cake slice\",\n",
    "    \"product_id_str\": \"a445\",\n",
    "    \"price_in_cents_int\": 595,\n",
    "    \"description_str\": \"chocolate heaven\",\n",
    "    \"tag_str_arr\": [\n",
    "      \"cake slice\",\n",
    "      \"on offer\"\n",
    "    ]\n",
    "  },\n",
    "  {\n",
    "    \"product_name_str\": \"chocolate cake\",\n",
    "    \"product_id_str\": \"a446\",\n",
    "    \"price_in_cents_int\": 4095,\n",
    "    \"description_str\": \"chocolate heaven\",\n",
    "    \"tag_str_arr\": [\n",
    "      \"whole cake\",\n",
    "      \"on offer\"\n",
    "    ]\n",
    "  }\n",
    "]"
   ]
  },
  {
   "cell_type": "markdown",
   "metadata": {},
   "source": [
    "![get-method-test1](images/get-method-test1.png)\n",
    "\n",
    "Congratulations! You have now successfully created and tested a REST API with a resource that makes a GET request."
   ]
  },
  {
   "cell_type": "markdown",
   "metadata": {},
   "source": [
    "## Task 3: Creating the second API endpoint (GET)\n",
    "\n",
    "In this task, I will define another API endpoint of type GET. This endpoint will eventually support calls to/products/on_offer from the cafe website and it will return in stock items.\n",
    "\n",
    " \n",
    "In the AWS Cloud9 navigation pane, expand the python_3 directory and open the file named create_on_offer_api.py.\n",
    "\n",
    "Replace <FMI_1> and <FMI_2> with the correct values so that this code file will add another resource to the API that you defined in the previous task.\n",
    "\n",
    "In a browser tab, go to the API Gateway console and choose the ProductsApi API that you created a moment ago.\n",
    "\n",
    "In the panel on the left, choose Resources.\n",
    "\n",
    "Choose GET under products\n",
    "\n",
    "In the breadcrumb navigation at the top of the screen (above the Actions menu), you can see APIs >  ProductsAPI followed by an id in parenthesis.  \n",
    "\n",
    "This is the api_id.\n",
    "On the same line,  you will see /products, followed by another id in parenthesis.  \n",
    "\n",
    "This is the resource  parent_id\n",
    "\n",
    "![onofferfmi1fmi2](images/onofferfmi1fmi2.png)\n"
   ]
  },
  {
   "cell_type": "markdown",
   "metadata": {},
   "source": [
    "Observe the rest of the code.\n",
    "\n",
    "The code looks very similar to the create_products_api code, because it is also creating a GET resource with a mock data endpoint.\n",
    "\n",
    "Notice that the hardcoded data response is formatted as shown below. It returns a single menu item, which will be sufficient since this is mock data."
   ]
  },
  {
   "cell_type": "code",
   "execution_count": null,
   "metadata": {},
   "outputs": [],
   "source": [
    "[\n",
    "  {\n",
    "    \"product_name_str\": \"apple pie slice\",\n",
    "    \"product_id_str\": \"a444\",\n",
    "    \"price_in_cents_int\": 595,\n",
    "    \"description_str\": \"amazing taste\",\n",
    "    \"tag_str_arr\": [\n",
    "      \"pie slice\",\n",
    "      \"on offer\"\n",
    "    ],\n",
    "    \"special_int\": 1\n",
    "  }\n",
    "]"
   ]
  },
  {
   "cell_type": "markdown",
   "metadata": {},
   "source": [
    "Create the API resource.\n",
    "\n",
    "Save the change to the file.\n",
    "\n",
    "Then in the Bash terminal, verify that the current directory is python_3 and run the code."
   ]
  },
  {
   "cell_type": "code",
   "execution_count": null,
   "metadata": {
    "vscode": {
     "languageId": "shellscript"
    }
   },
   "outputs": [],
   "source": [
    "python create_on_offer_api.py"
   ]
  },
  {
   "cell_type": "markdown",
   "metadata": {},
   "source": [
    "Observe the results.\n",
    "\n",
    "Return to the AWS Management Console browser tab, and open the API Gateway console.\n",
    "\n",
    "Choose the APIs link in the breadcrumb navigation above, then on the left, open the ProductsApi by choosing the link.\n",
    "\n",
    "Notice that there is now a nested resource called /on_offer under the /products resource.\n",
    "\n",
    "![task3](images/task3.png)"
   ]
  },
  {
   "cell_type": "markdown",
   "metadata": {},
   "source": [
    "Test the /on_offer resource.\n",
    "\n",
    "Use the  Test link, the same way you tested the first resource in the previous task.\n",
    "\n",
    "You should receive a 200 HTML status code response."
   ]
  },
  {
   "cell_type": "code",
   "execution_count": null,
   "metadata": {
    "vscode": {
     "languageId": "shellscript"
    }
   },
   "outputs": [],
   "source": [
    "[\n",
    "  {\n",
    "    \"product_name_str\": \"apple pie slice\",\n",
    "    \"product_id_str\": \"a444\",\n",
    "    \"price_in_cents_int\": 595,\n",
    "    \"description_str\": \"amazing taste\",\n",
    "    \"tag_str_arr\": [\n",
    "      \"pie slice\",\n",
    "      \"on offer\"\n",
    "    ],\n",
    "    \"special_int\": 1\n",
    "  }\n",
    "]"
   ]
  },
  {
   "cell_type": "markdown",
   "metadata": {},
   "source": [
    "![onoffer-test](images/onoffer-test.png)"
   ]
  }
 ],
 "metadata": {
  "language_info": {
   "name": "python"
  }
 },
 "nbformat": 4,
 "nbformat_minor": 2
}
